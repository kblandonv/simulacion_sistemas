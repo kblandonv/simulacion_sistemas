{
  "nbformat": 4,
  "nbformat_minor": 0,
  "metadata": {
    "colab": {
      "provenance": [],
      "authorship_tag": "ABX9TyNNubGSgNz2Z4QTt+r7vjXa"
    },
    "kernelspec": {
      "name": "python3",
      "display_name": "Python 3"
    },
    "language_info": {
      "name": "python"
    }
  },
  "cells": [
    {
      "cell_type": "code",
      "execution_count": 1,
      "metadata": {
        "colab": {
          "base_uri": "https://localhost:8080/"
        },
        "id": "xgeL6DRSAbMN",
        "outputId": "600843c8-46a6-47b4-c7e7-cac9ec022c07"
      },
      "outputs": [
        {
          "output_type": "stream",
          "name": "stdout",
          "text": [
            "Capacidad óptima a reservar: 600\n",
            "Intervalo de confianza para la utilidad esperada en esa capacidad: (19236.27217849436, 48120.452746166746)\n"
          ]
        }
      ],
      "source": [
        "import numpy as np\n",
        "from scipy.stats import norm\n",
        "\n",
        "# Parámetros del problema\n",
        "precio_venta = 160\n",
        "costo_periquita = 50\n",
        "penalidad = 5\n",
        "media_demanda = 400\n",
        "desviacion_demanda = 100\n",
        "\n",
        "# Rango de unidades de capacidad reservada\n",
        "rango_capacidad = range(400, 601)\n",
        "\n",
        "# Función para calcular la utilidad esperada dado un nivel de capacidad reservada\n",
        "def utilidad_esperada(capacidad_reservada):\n",
        "    utilidades = []\n",
        "    for capacidad in capacidad_reservada:\n",
        "        # Probabilidad de cumplir con la demanda\n",
        "        probabilidad_cumplir = norm.cdf(0.8 * capacidad, media_demanda, desviacion_demanda)\n",
        "\n",
        "        # Ingresos por ventas\n",
        "        ingresos = min(capacidad, media_demanda) * precio_venta\n",
        "\n",
        "        # Costo de los vestidos\n",
        "        costo_vestidos = min(capacidad, media_demanda) * costo_periquita\n",
        "\n",
        "        # Penalidad si no se cumplen todas las reservas\n",
        "        penalidad_no_cumplimiento = penalidad * max(0, capacidad - media_demanda)\n",
        "\n",
        "        # Utilidad esperada\n",
        "        utilidad = probabilidad_cumplir * (ingresos - costo_vestidos) - penalidad_no_cumplimiento\n",
        "        utilidades.append(utilidad)\n",
        "\n",
        "    return utilidades\n",
        "\n",
        "# Calcular la utilidad esperada para el rango de capacidad reservada\n",
        "utilidades = utilidad_esperada(rango_capacidad)\n",
        "\n",
        "# Encontrar la capacidad que maximiza la utilidad esperada\n",
        "capacidad_optima = rango_capacidad[np.argmax(utilidades)]\n",
        "\n",
        "# Calcular el intervalo de confianza para la utilidad esperada en la capacidad óptima\n",
        "# Suponemos que la utilidad esperada sigue una distribución normal\n",
        "mean_utilidad = utilidades[rango_capacidad.index(capacidad_optima)]\n",
        "std_utilidad = np.std(utilidades)\n",
        "# Usando un nivel de confianza del 95%\n",
        "confianza = 0.95\n",
        "z_score = norm.ppf((1 + confianza) / 2)\n",
        "intervalo_confianza = (mean_utilidad - z_score * std_utilidad, mean_utilidad + z_score * std_utilidad)\n",
        "\n",
        "print(\"Capacidad óptima a reservar:\", capacidad_optima)\n",
        "print(\"Intervalo de confianza para la utilidad esperada en esa capacidad:\", intervalo_confianza)\n",
        "\n"
      ]
    }
  ]
}
{
  "nbformat": 4,
  "nbformat_minor": 0,
  "metadata": {
    "colab": {
      "provenance": [],
      "authorship_tag": "ABX9TyPmCjq23zCitj1L72dUiBDS"
    },
    "kernelspec": {
      "name": "python3",
      "display_name": "Python 3"
    },
    "language_info": {
      "name": "python"
    }
  },
  "cells": [
    {
      "cell_type": "code",
      "execution_count": null,
      "metadata": {
        "colab": {
          "base_uri": "https://localhost:8080/",
          "height": 611
        },
        "id": "sA99sNdAnKN7",
        "outputId": "fee4dfc5-80b4-4438-bd53-e7a74380ea0f"
      },
      "outputs": [
        {
          "output_type": "stream",
          "name": "stdout",
          "text": [
            "Número óptimo de camiones: 12\n"
          ]
        },
        {
          "output_type": "display_data",
          "data": {
            "text/plain": [
              "<Figure size 640x480 with 1 Axes>"
            ],
            "image/png": "[encoded data removed]"
          },
          "metadata": {}
        },
        {
          "output_type": "stream",
          "name": "stdout",
          "text": [
            "Estadísticas descriptivas de los costos anuales:\n",
            "Mínimo: 259936050.62723482\n",
            "Máximo: 267974065.16604286\n",
            "Media: 263885342.1123145\n",
            "Mediana: 263957123.24732032\n",
            "Desviación estándar: 1422939.1611651955\n",
            "Intervalo de confianza (95%): (263760615.99557978, 264010068.2290492)\n"
          ]
        }
      ],
      "source": [
        "from random import random\n",
        "import math\n",
        "from statistics import mean, stdev, median\n",
        "import matplotlib.pyplot as plt\n",
        "\n",
        "#Generar una observacion de la uniforme\n",
        "def uniforme(min,max):\n",
        "  r = random()\n",
        "  obs = (max - min)*r + min\n",
        "  return obs\n",
        "\n",
        "#Generar una produccion diaria\n",
        "def produccion():\n",
        "  r = random()\n",
        "  if r < 0.1:\n",
        "    return uniforme(50,55)\n",
        "  elif r < 0.25:\n",
        "    return uniforme(55,60)\n",
        "  elif r < 0.55:\n",
        "    return uniforme(60,65)\n",
        "  elif r < 0.9:\n",
        "    return uniforme(65,70)\n",
        "  elif r < 0.98:\n",
        "    return uniforme(70,75)\n",
        "  else:\n",
        "    return uniforme(75,80)\n",
        "\n",
        "#Generar una observacion de la triangular\n",
        "def triangular(ei,moda,ed):\n",
        "  a=ei\n",
        "  b=ed\n",
        "  c=moda\n",
        "  r=random()\n",
        "  r1=(c-a)/(b-a)\n",
        "  if r <=r1:\n",
        "    obs=a+math.sqrt(r*(b-a)*(c-a))\n",
        "  else :\n",
        "    obs=b-math.sqrt((1-r)*(b-a)*(b-c))\n",
        "  return(obs)\n",
        "\n",
        "#Logica de la simulacion\n",
        "def simulacion(cam):\n",
        "    costo_camiones = cam * 20000000\n",
        "    costo_total = costo_camiones  # Costo inicial de comprar camiones\n",
        "\n",
        "    for i in range(250):\n",
        "        prod = produccion()\n",
        "        carga_camiones = 0\n",
        "\n",
        "        # Calcular la cantidad de producto que se puede transportar con los camiones disponibles\n",
        "        for j in range(cam):\n",
        "            carga_camiones += triangular(4, 5, 6)\n",
        "\n",
        "        # Si la producción supera la capacidad de los camiones\n",
        "        if prod > carga_camiones:\n",
        "            excedente = prod - carga_camiones\n",
        "            # Costo de enviar el excedente a través de camiones de otra compañía transportadora\n",
        "            costo_excedente = excedente * 20000\n",
        "            costo_total += costo_excedente\n",
        "\n",
        "    return costo_total\n",
        "\n",
        "# Determinar el número óptimo de camiones que minimiza los costos anuales promedio\n",
        "costos_promedio = []\n",
        "for nro in range(8, 19):\n",
        "    costos_simulacion = [simulacion(nro) for _ in range(500)]\n",
        "    costo_promedio = mean(costos_simulacion)\n",
        "    costos_promedio.append((nro, costo_promedio))\n",
        "\n",
        "# Ordenar los costos promedio y encontrar el mínimo\n",
        "costos_promedio.sort(key=lambda x: x[1])\n",
        "optimo_camiones = costos_promedio[0][0]\n",
        "print(\"Número óptimo de camiones:\", optimo_camiones)\n",
        "\n",
        "# Realizar histograma de los costos anuales\n",
        "costos_optimos = [simulacion(optimo_camiones) for _ in range(500)]\n",
        "plt.hist(costos_optimos, bins=30, edgecolor='black')\n",
        "plt.title('Histograma de Costos Anuales')\n",
        "plt.xlabel('Costo Anual')\n",
        "plt.ylabel('Frecuencia')\n",
        "plt.show()\n",
        "\n",
        "# Estadísticas descriptivas\n",
        "print(\"Estadísticas descriptivas de los costos anuales:\")\n",
        "print(\"Mínimo:\", min(costos_optimos))\n",
        "print(\"Máximo:\", max(costos_optimos))\n",
        "print(\"Media:\", mean(costos_optimos))\n",
        "print(\"Mediana:\", median(costos_optimos))\n",
        "print(\"Desviación estándar:\", stdev(costos_optimos))\n",
        "\n",
        "# Intervalo de confianza para el promedio de los costos\n",
        "n = len(costos_optimos)\n",
        "mean_costos = mean(costos_optimos)\n",
        "std_dev = stdev(costos_optimos)\n",
        "ci = 1.96 * (std_dev / math.sqrt(n))\n",
        "lower_bound = mean_costos - ci\n",
        "upper_bound = mean_costos + ci\n",
        "print(\"Intervalo de confianza (95%):\", (lower_bound, upper_bound))\n"
      ]
    },
    {
      "cell_type": "markdown",
      "source": [
        "El costo anual promedio es más bajo cuando la empresa compra y opera con 12 camiones. Esto puede interpretarse de varias maneras:\n",
        "\n",
        "Eficiencia en la capacidad de transporte: Con 12 camiones, la capacidad de transporte parece ser suficiente para manejar la producción diaria y minimizar los costos asociados con el envío de excedentes.\n",
        "\n",
        "Balance entre costo de compra y operación: A pesar del costo inicial de comprar 12 camiones, los ahorros resultantes en términos de costos de transporte y envío de excedentes hacen que la opción de tener 12 camiones sea la más rentable a largo plazo.\n",
        "\n",
        "Optimización de recursos: Comprar más de 12 camiones podría resultar en gastos innecesarios, ya que no proporcionaría beneficios adicionales significativos en términos de reducción de costos. Por otro lado, comprar menos de 12 camiones podría resultar en una capacidad de transporte insuficiente y mayores costos de envío de excedentes.\n",
        "\n",
        "El número óptimo de camiones, en este caso 12, representa un equilibrio entre los costos de adquisición y operación de los camiones, y los ahorros en términos de costos de transporte y envío de excedentes."
      ],
      "metadata": {
        "id": "cb0WOGaQoncd"
      }
    },
    {
      "cell_type": "markdown",
      "source": [
        "Mínimo: El costo mínimo anual registrado en las simulaciones fue de aproximadamente 259.94 millones de pesos. Esto representa el costo más bajo que la empresa experimentó en cualquier simulación.\n",
        "\n",
        "Máximo: El costo máximo anual registrado en las simulaciones fue de alrededor de 267.97 millones de pesos. Esto indica el costo más alto que la empresa podría enfrentar en un año de operaciones.\n",
        "\n",
        "Media: La media de los costos anuales fue de aproximadamente 263.89 millones de pesos. Esta es la suma de todos los costos anuales dividida por el número total de simulaciones realizadas.\n",
        "\n",
        "Mediana: La mediana de los costos anuales fue de aproximadamente 263.96 millones de pesos. Esto significa que el 50% de los costos anuales están por encima de este valor y el 50% están por debajo.\n",
        "\n",
        "Desviación estándar: La desviación estándar de los costos anuales fue de alrededor de 1.42 millones de pesos. Esto indica la dispersión o variabilidad de los costos anuales alrededor de la media."
      ],
      "metadata": {
        "id": "rGHSLLWloUih"
      }
    }
  ]
}